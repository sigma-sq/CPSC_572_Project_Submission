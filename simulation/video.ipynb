{
 "cells": [
  {
   "cell_type": "code",
   "execution_count": 11,
   "id": "initial_id",
   "metadata": {
    "collapsed": true,
    "ExecuteTime": {
     "end_time": "2024-04-02T00:28:34.893982600Z",
     "start_time": "2024-04-02T00:28:34.885165800Z"
    }
   },
   "outputs": [],
   "source": [
    "# got this from chatGPT. Of course it did it wrong and with lots of bugs, so I would say the idea of how to join images into video came from ChatGPT the actual code less so LOL!\n",
    "import cv2\n",
    "import os\n",
    "import glob\n",
    "import re"
   ]
  },
  {
   "cell_type": "code",
   "outputs": [],
   "source": [
    "# Each job consists of an image directory and a filename for the output video.\n",
    "jobs = [\n",
    "    ('sim_output/base-model', 'base-network.avi'),\n",
    "    ('sim_output/log-plot', 'base-degree-dist.avi'),\n",
    "    ('sim_output/null-degree', 'null-degree.avi'),\n",
    "    ('sim_output/null-model', 'null-network.avi')\n",
    "]\n",
    "\n",
    "for job in jobs:\n",
    "\n",
    "    # Unpack the job into its image directory and output filename\n",
    "    img_dir = job[0]\n",
    "    filename = job[1]\n",
    "\n",
    "    # Construct a path to the image files in the image directory\n",
    "    data_path = os.path.join(img_dir,'*g')\n",
    "\n",
    "    # Get a list of all image files in the data directory\n",
    "    files = glob.glob(data_path)\n",
    "\n",
    "    files.sort() # for sorting the images sequence\n",
    "\n",
    "    # Define a function to sort filenames based on number within them\n",
    "    def sort_key(name):\n",
    "        num = re.findall(r'\\d+', name)\n",
    "        return int(num[0]) if num else name\n",
    "\n",
    "    # Apply this sort function to our files\n",
    "    files.sort(key=sort_key)\n",
    "\n",
    "    # Initialize an empty list to hold our images\n",
    "    frame_array = []\n",
    "    out = None\n",
    "\n",
    "    # Loop over all filenames in the sorted file list\n",
    "    for i in range(len(files)):\n",
    "        # Read the image\n",
    "        img = cv2.imread(files[i])\n",
    "\n",
    "        # Get the dimensions of the image\n",
    "        height, width, layers = img.shape\n",
    "        size = (width,height)\n",
    "\n",
    "        # Add the image to our frame array\n",
    "        frame_array.append(img)\n",
    "\n",
    "        # Initialize our video writer\n",
    "        out = cv2.VideoWriter(filename,cv2.VideoWriter_fourcc(*'DIVX'), 8, size)\n",
    "\n",
    "    for i in range(len(frame_array)):\n",
    "        # Write the image to the output video\n",
    "        out.write(frame_array[i])\n",
    "\n",
    "    # Release the video writer\n",
    "    out.release()"
   ],
   "metadata": {
    "collapsed": false,
    "ExecuteTime": {
     "end_time": "2024-04-02T00:28:46.072330900Z",
     "start_time": "2024-04-02T00:28:35.325276500Z"
    }
   },
   "id": "ac0051228033219e",
   "execution_count": 12
  },
  {
   "cell_type": "code",
   "outputs": [],
   "source": [],
   "metadata": {
    "collapsed": false
   },
   "id": "ec3e5bf10a64c5b5"
  }
 ],
 "metadata": {
  "kernelspec": {
   "display_name": "Python 3",
   "language": "python",
   "name": "python3"
  },
  "language_info": {
   "codemirror_mode": {
    "name": "ipython",
    "version": 2
   },
   "file_extension": ".py",
   "mimetype": "text/x-python",
   "name": "python",
   "nbconvert_exporter": "python",
   "pygments_lexer": "ipython2",
   "version": "2.7.6"
  }
 },
 "nbformat": 4,
 "nbformat_minor": 5
}
