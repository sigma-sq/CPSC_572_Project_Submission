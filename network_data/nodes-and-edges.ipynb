{
 "cells": [
  {
   "cell_type": "code",
   "execution_count": 1,
   "id": "initial_id",
   "metadata": {
    "collapsed": true,
    "ExecuteTime": {
     "end_time": "2024-03-21T01:41:39.353139300Z",
     "start_time": "2024-03-21T01:41:38.680456100Z"
    }
   },
   "outputs": [],
   "source": [
    "import pandas as pd\n",
    "from storage.storage import Storage"
   ]
  },
  {
   "cell_type": "code",
   "outputs": [],
   "source": [
    "nodes_df = pd.read_csv('substations.csv')\n",
    "nodes_df['node_id'] = nodes_df.reset_index().index\n",
    "edges_df = pd.read_csv('transmission.csv')\n",
    "edges_df['edge_id'] = edges_df.reset_index().index\n",
    "loc_df = pd.read_csv('lat-long.csv')"
   ],
   "metadata": {
    "collapsed": false,
    "ExecuteTime": {
     "end_time": "2024-03-21T01:41:39.368815200Z",
     "start_time": "2024-03-21T01:41:39.353139300Z"
    }
   },
   "id": "f968e0cab849204a",
   "execution_count": 2
  },
  {
   "cell_type": "code",
   "outputs": [
    {
     "data": {
      "text/plain": "    Line Name  Voltage (kV)     Substation Name Facility Code  \\\n0       1002L           240       Amoco Empress          163S   \n1       1002L           240              Jenner          275S   \n2      1005AL           240          Little Bow          991S   \n3       1005L           240       Picture Butte          120S   \n4       1005L           240                Milo          356S   \n..        ...           ...                 ...           ...   \n474      9L99           240           Sheerness          807S   \n475     CHD-1            69             Magrath          225S   \n476     CHD-1            69  Taylor Hydro Plant           NaN   \n477   PCES01L           138              Namaka          428S   \n478   PCES01L           138            Cavalier           NaN   \n\n             Planning Area       TFO  Capability (MW)  edge_id  \n0               48-Empress  AltaLink              158        0  \n1               48-Empress  AltaLink              265        1  \n2               49-Stavely  AltaLink               84        2  \n3            54-Lethbridge  AltaLink              311        3  \n4                47-Brooks  AltaLink              117        4  \n..                     ...       ...              ...      ...  \n474           43-Sheerness      ATCO               83      474  \n475            55-Glenwood  AltaLink               15      475  \n476            55-Glenwood  AltaLink               15      476  \n477  45-Strathmore/Blackie  AltaLink                5      477  \n478  45-Strathmore/Blackie  AltaLink                5      478  \n\n[479 rows x 8 columns]",
      "text/html": "<div>\n<style scoped>\n    .dataframe tbody tr th:only-of-type {\n        vertical-align: middle;\n    }\n\n    .dataframe tbody tr th {\n        vertical-align: top;\n    }\n\n    .dataframe thead th {\n        text-align: right;\n    }\n</style>\n<table border=\"1\" class=\"dataframe\">\n  <thead>\n    <tr style=\"text-align: right;\">\n      <th></th>\n      <th>Line Name</th>\n      <th>Voltage (kV)</th>\n      <th>Substation Name</th>\n      <th>Facility Code</th>\n      <th>Planning Area</th>\n      <th>TFO</th>\n      <th>Capability (MW)</th>\n      <th>edge_id</th>\n    </tr>\n  </thead>\n  <tbody>\n    <tr>\n      <th>0</th>\n      <td>1002L</td>\n      <td>240</td>\n      <td>Amoco Empress</td>\n      <td>163S</td>\n      <td>48-Empress</td>\n      <td>AltaLink</td>\n      <td>158</td>\n      <td>0</td>\n    </tr>\n    <tr>\n      <th>1</th>\n      <td>1002L</td>\n      <td>240</td>\n      <td>Jenner</td>\n      <td>275S</td>\n      <td>48-Empress</td>\n      <td>AltaLink</td>\n      <td>265</td>\n      <td>1</td>\n    </tr>\n    <tr>\n      <th>2</th>\n      <td>1005AL</td>\n      <td>240</td>\n      <td>Little Bow</td>\n      <td>991S</td>\n      <td>49-Stavely</td>\n      <td>AltaLink</td>\n      <td>84</td>\n      <td>2</td>\n    </tr>\n    <tr>\n      <th>3</th>\n      <td>1005L</td>\n      <td>240</td>\n      <td>Picture Butte</td>\n      <td>120S</td>\n      <td>54-Lethbridge</td>\n      <td>AltaLink</td>\n      <td>311</td>\n      <td>3</td>\n    </tr>\n    <tr>\n      <th>4</th>\n      <td>1005L</td>\n      <td>240</td>\n      <td>Milo</td>\n      <td>356S</td>\n      <td>47-Brooks</td>\n      <td>AltaLink</td>\n      <td>117</td>\n      <td>4</td>\n    </tr>\n    <tr>\n      <th>...</th>\n      <td>...</td>\n      <td>...</td>\n      <td>...</td>\n      <td>...</td>\n      <td>...</td>\n      <td>...</td>\n      <td>...</td>\n      <td>...</td>\n    </tr>\n    <tr>\n      <th>474</th>\n      <td>9L99</td>\n      <td>240</td>\n      <td>Sheerness</td>\n      <td>807S</td>\n      <td>43-Sheerness</td>\n      <td>ATCO</td>\n      <td>83</td>\n      <td>474</td>\n    </tr>\n    <tr>\n      <th>475</th>\n      <td>CHD-1</td>\n      <td>69</td>\n      <td>Magrath</td>\n      <td>225S</td>\n      <td>55-Glenwood</td>\n      <td>AltaLink</td>\n      <td>15</td>\n      <td>475</td>\n    </tr>\n    <tr>\n      <th>476</th>\n      <td>CHD-1</td>\n      <td>69</td>\n      <td>Taylor Hydro Plant</td>\n      <td>NaN</td>\n      <td>55-Glenwood</td>\n      <td>AltaLink</td>\n      <td>15</td>\n      <td>476</td>\n    </tr>\n    <tr>\n      <th>477</th>\n      <td>PCES01L</td>\n      <td>138</td>\n      <td>Namaka</td>\n      <td>428S</td>\n      <td>45-Strathmore/Blackie</td>\n      <td>AltaLink</td>\n      <td>5</td>\n      <td>477</td>\n    </tr>\n    <tr>\n      <th>478</th>\n      <td>PCES01L</td>\n      <td>138</td>\n      <td>Cavalier</td>\n      <td>NaN</td>\n      <td>45-Strathmore/Blackie</td>\n      <td>AltaLink</td>\n      <td>5</td>\n      <td>478</td>\n    </tr>\n  </tbody>\n</table>\n<p>479 rows × 8 columns</p>\n</div>"
     },
     "execution_count": 3,
     "metadata": {},
     "output_type": "execute_result"
    }
   ],
   "source": [
    "edges_df"
   ],
   "metadata": {
    "collapsed": false,
    "ExecuteTime": {
     "end_time": "2024-03-21T01:41:39.387850700Z",
     "start_time": "2024-03-21T01:41:39.369316300Z"
    }
   },
   "id": "959ae74e4c14c9bf",
   "execution_count": 3
  },
  {
   "cell_type": "code",
   "outputs": [],
   "source": [
    "db = Storage()\n",
    "db.db = 'grid.db'"
   ],
   "metadata": {
    "collapsed": false,
    "ExecuteTime": {
     "end_time": "2024-03-21T01:41:39.388849300Z",
     "start_time": "2024-03-21T01:41:39.379842800Z"
    }
   },
   "id": "74512a92cac9c6f2",
   "execution_count": 4
  },
  {
   "cell_type": "code",
   "outputs": [
    {
     "data": {
      "text/plain": "0"
     },
     "execution_count": 5,
     "metadata": {},
     "output_type": "execute_result"
    }
   ],
   "source": [
    "db.save_data('nodes', nodes_df, replace=True)\n",
    "db.save_data('edges', edges_df, replace=True)\n",
    "db.save_data('loc', loc_df, replace=True)"
   ],
   "metadata": {
    "collapsed": false,
    "ExecuteTime": {
     "end_time": "2024-03-21T01:41:39.472828800Z",
     "start_time": "2024-03-21T01:41:39.382349400Z"
    }
   },
   "id": "638446dae17795a8",
   "execution_count": 5
  },
  {
   "cell_type": "code",
   "outputs": [],
   "source": [
    "q = '''\n",
    "SELECT * from nodes\n",
    "left join loc on (nodes.`Facility Code` = loc.`Substation`)\n",
    "'''\n",
    "merged_df = db.run_query(q)"
   ],
   "metadata": {
    "collapsed": false,
    "ExecuteTime": {
     "end_time": "2024-03-21T01:42:49.673095400Z",
     "start_time": "2024-03-21T01:42:49.660910200Z"
    }
   },
   "id": "b4a60748cd54046a",
   "execution_count": 10
  },
  {
   "cell_type": "code",
   "outputs": [
    {
     "data": {
      "text/plain": "            Name Facility Code       TFO    Planning Area  Bus Number  \\\n0   Al Rothbauer          321S  AltaLink  04-Medicine Hat         976   \n1  Amoco Empress          163S  AltaLink       48-Empress         262   \n2  Amoco Empress          163S  AltaLink       48-Empress         267   \n3       Anderson          801S      ATCO     43-Sheerness        1484   \n4       Anderson          801S      ATCO     43-Sheerness        1485   \n\n   Voltage (kV)  Capability (MW)  node_id Substation  Shape  \\\n0           138              220        0       321S  Point   \n1           240              160        1       163S  Point   \n2           138              125        2       163S  Point   \n3           240             1006        3       801S  Point   \n4           144               85        4       801S  Point   \n\n   Latitude (generated)  Longitude (generated)  \n0             50.062035            -110.721055  \n1             50.678140            -110.026638  \n2             50.678140            -110.026638  \n3             51.429079            -111.799296  \n4             51.429079            -111.799296  ",
      "text/html": "<div>\n<style scoped>\n    .dataframe tbody tr th:only-of-type {\n        vertical-align: middle;\n    }\n\n    .dataframe tbody tr th {\n        vertical-align: top;\n    }\n\n    .dataframe thead th {\n        text-align: right;\n    }\n</style>\n<table border=\"1\" class=\"dataframe\">\n  <thead>\n    <tr style=\"text-align: right;\">\n      <th></th>\n      <th>Name</th>\n      <th>Facility Code</th>\n      <th>TFO</th>\n      <th>Planning Area</th>\n      <th>Bus Number</th>\n      <th>Voltage (kV)</th>\n      <th>Capability (MW)</th>\n      <th>node_id</th>\n      <th>Substation</th>\n      <th>Shape</th>\n      <th>Latitude (generated)</th>\n      <th>Longitude (generated)</th>\n    </tr>\n  </thead>\n  <tbody>\n    <tr>\n      <th>0</th>\n      <td>Al Rothbauer</td>\n      <td>321S</td>\n      <td>AltaLink</td>\n      <td>04-Medicine Hat</td>\n      <td>976</td>\n      <td>138</td>\n      <td>220</td>\n      <td>0</td>\n      <td>321S</td>\n      <td>Point</td>\n      <td>50.062035</td>\n      <td>-110.721055</td>\n    </tr>\n    <tr>\n      <th>1</th>\n      <td>Amoco Empress</td>\n      <td>163S</td>\n      <td>AltaLink</td>\n      <td>48-Empress</td>\n      <td>262</td>\n      <td>240</td>\n      <td>160</td>\n      <td>1</td>\n      <td>163S</td>\n      <td>Point</td>\n      <td>50.678140</td>\n      <td>-110.026638</td>\n    </tr>\n    <tr>\n      <th>2</th>\n      <td>Amoco Empress</td>\n      <td>163S</td>\n      <td>AltaLink</td>\n      <td>48-Empress</td>\n      <td>267</td>\n      <td>138</td>\n      <td>125</td>\n      <td>2</td>\n      <td>163S</td>\n      <td>Point</td>\n      <td>50.678140</td>\n      <td>-110.026638</td>\n    </tr>\n    <tr>\n      <th>3</th>\n      <td>Anderson</td>\n      <td>801S</td>\n      <td>ATCO</td>\n      <td>43-Sheerness</td>\n      <td>1484</td>\n      <td>240</td>\n      <td>1006</td>\n      <td>3</td>\n      <td>801S</td>\n      <td>Point</td>\n      <td>51.429079</td>\n      <td>-111.799296</td>\n    </tr>\n    <tr>\n      <th>4</th>\n      <td>Anderson</td>\n      <td>801S</td>\n      <td>ATCO</td>\n      <td>43-Sheerness</td>\n      <td>1485</td>\n      <td>144</td>\n      <td>85</td>\n      <td>4</td>\n      <td>801S</td>\n      <td>Point</td>\n      <td>51.429079</td>\n      <td>-111.799296</td>\n    </tr>\n  </tbody>\n</table>\n</div>"
     },
     "execution_count": 11,
     "metadata": {},
     "output_type": "execute_result"
    }
   ],
   "source": [
    "merged_df.head(5)"
   ],
   "metadata": {
    "collapsed": false,
    "ExecuteTime": {
     "end_time": "2024-03-21T01:42:50.265280500Z",
     "start_time": "2024-03-21T01:42:50.254286900Z"
    }
   },
   "id": "c5c10d183b215b93",
   "execution_count": 11
  },
  {
   "cell_type": "markdown",
   "source": [
    "In Location list but not in either list"
   ],
   "metadata": {
    "collapsed": false
   },
   "id": "9351edd94b46d0b7"
  },
  {
   "cell_type": "code",
   "outputs": [
    {
     "data": {
      "text/plain": "0"
     },
     "execution_count": 12,
     "metadata": {},
     "output_type": "execute_result"
    }
   ],
   "source": [
    "db.save_data('nodes_loc', merged_df, replace=True)"
   ],
   "metadata": {
    "collapsed": false,
    "ExecuteTime": {
     "end_time": "2024-03-21T01:42:52.005045700Z",
     "start_time": "2024-03-21T01:42:51.980930800Z"
    }
   },
   "id": "9f749c046f6cf40d",
   "execution_count": 12
  },
  {
   "cell_type": "code",
   "outputs": [
    {
     "data": {
      "text/plain": "Name                     192\nFacility Code            191\nTFO                        4\nPlanning Area             18\nBus Number               228\nVoltage (kV)               5\nCapability (MW)          149\nnode_id                  228\nSubstation               190\nShape                      1\nLatitude (generated)     190\nLongitude (generated)    190\ndtype: int64"
     },
     "execution_count": 13,
     "metadata": {},
     "output_type": "execute_result"
    }
   ],
   "source": [
    "merged_df.nunique()"
   ],
   "metadata": {
    "collapsed": false,
    "ExecuteTime": {
     "end_time": "2024-03-21T01:42:53.068573Z",
     "start_time": "2024-03-21T01:42:53.058310700Z"
    }
   },
   "id": "1064da9683b4945b",
   "execution_count": 13
  },
  {
   "cell_type": "code",
   "outputs": [],
   "source": [
    "q = '''\n",
    "SELECT edges.`Line Name`, edges.`Voltage (kV)` as `edge_voltage_kv`, edges.`Capability (MW)` as `edge_cap_mw`, edges.edge_id, nodes_loc.* from edges\n",
    "inner join nodes_loc on (nodes_loc.`Facility Code` = edges.`Facility Code`)\n",
    "'''\n",
    "\n",
    "full_df = db.run_query(q)"
   ],
   "metadata": {
    "collapsed": false,
    "ExecuteTime": {
     "end_time": "2024-03-17T18:40:05.817436700Z",
     "start_time": "2024-03-17T18:40:05.802327400Z"
    }
   },
   "id": "95c74b1c4a551df4",
   "execution_count": 26
  },
  {
   "cell_type": "code",
   "outputs": [
    {
     "data": {
      "text/plain": "  Line Name  edge_voltage_kv  edge_cap_mw  edge_id           Name  \\\n0     1002L              240          158        0  Amoco Empress   \n1     1002L              240          158        0  Amoco Empress   \n2     1002L              240          265        1         Jenner   \n3     1002L              240          265        1         Jenner   \n4    1005AL              240           84        2     Little Bow   \n5     1005L              240          311        3  Picture Butte   \n6     1005L              240          117        4           Milo   \n7      100L              138           58        5         Tilley   \n8      100L              138           62        6       Suffield   \n9     1011L              240          158        7  Amoco Empress   \n\n  Facility Code       TFO    Planning Area  Bus Number  Voltage (kV)  \\\n0          163S  AltaLink       48-Empress         262           240   \n1          163S  AltaLink       48-Empress         267           138   \n2          275S  AltaLink       48-Empress         260           240   \n3          275S  AltaLink       48-Empress         292           138   \n4          991S  AltaLink       49-Stavely      549026           240   \n5          120S  AltaLink    54-Lethbridge         451           240   \n6          356S  AltaLink        47-Brooks         943           240   \n7          498S  AltaLink        47-Brooks         275           138   \n8          895S  AltaLink  04-Medicine Hat         270           138   \n9          163S  AltaLink       48-Empress         262           240   \n\n   Capability (MW)  node_id Substation  Latitude (generated)  \\\n0              160        1       163S             50.678140   \n1              125        2       163S             50.678140   \n2              271      107       275S             50.710576   \n3              104      108       275S             50.710576   \n4               84      116       991S             50.264729   \n5              311      155       120S             49.827353   \n6             1327      131       356S             50.521809   \n7              127      195       498S             50.490566   \n8               63      187       895S             50.231783   \n9              160        1       163S             50.678140   \n\n   Longitude (generated)  \n0            -110.026638  \n1            -110.026638  \n2            -111.091598  \n3            -111.091598  \n4            -112.764489  \n5            -112.734982  \n6            -112.767802  \n7            -111.652846  \n8            -111.172141  \n9            -110.026638  ",
      "text/html": "<div>\n<style scoped>\n    .dataframe tbody tr th:only-of-type {\n        vertical-align: middle;\n    }\n\n    .dataframe tbody tr th {\n        vertical-align: top;\n    }\n\n    .dataframe thead th {\n        text-align: right;\n    }\n</style>\n<table border=\"1\" class=\"dataframe\">\n  <thead>\n    <tr style=\"text-align: right;\">\n      <th></th>\n      <th>Line Name</th>\n      <th>edge_voltage_kv</th>\n      <th>edge_cap_mw</th>\n      <th>edge_id</th>\n      <th>Name</th>\n      <th>Facility Code</th>\n      <th>TFO</th>\n      <th>Planning Area</th>\n      <th>Bus Number</th>\n      <th>Voltage (kV)</th>\n      <th>Capability (MW)</th>\n      <th>node_id</th>\n      <th>Substation</th>\n      <th>Latitude (generated)</th>\n      <th>Longitude (generated)</th>\n    </tr>\n  </thead>\n  <tbody>\n    <tr>\n      <th>0</th>\n      <td>1002L</td>\n      <td>240</td>\n      <td>158</td>\n      <td>0</td>\n      <td>Amoco Empress</td>\n      <td>163S</td>\n      <td>AltaLink</td>\n      <td>48-Empress</td>\n      <td>262</td>\n      <td>240</td>\n      <td>160</td>\n      <td>1</td>\n      <td>163S</td>\n      <td>50.678140</td>\n      <td>-110.026638</td>\n    </tr>\n    <tr>\n      <th>1</th>\n      <td>1002L</td>\n      <td>240</td>\n      <td>158</td>\n      <td>0</td>\n      <td>Amoco Empress</td>\n      <td>163S</td>\n      <td>AltaLink</td>\n      <td>48-Empress</td>\n      <td>267</td>\n      <td>138</td>\n      <td>125</td>\n      <td>2</td>\n      <td>163S</td>\n      <td>50.678140</td>\n      <td>-110.026638</td>\n    </tr>\n    <tr>\n      <th>2</th>\n      <td>1002L</td>\n      <td>240</td>\n      <td>265</td>\n      <td>1</td>\n      <td>Jenner</td>\n      <td>275S</td>\n      <td>AltaLink</td>\n      <td>48-Empress</td>\n      <td>260</td>\n      <td>240</td>\n      <td>271</td>\n      <td>107</td>\n      <td>275S</td>\n      <td>50.710576</td>\n      <td>-111.091598</td>\n    </tr>\n    <tr>\n      <th>3</th>\n      <td>1002L</td>\n      <td>240</td>\n      <td>265</td>\n      <td>1</td>\n      <td>Jenner</td>\n      <td>275S</td>\n      <td>AltaLink</td>\n      <td>48-Empress</td>\n      <td>292</td>\n      <td>138</td>\n      <td>104</td>\n      <td>108</td>\n      <td>275S</td>\n      <td>50.710576</td>\n      <td>-111.091598</td>\n    </tr>\n    <tr>\n      <th>4</th>\n      <td>1005AL</td>\n      <td>240</td>\n      <td>84</td>\n      <td>2</td>\n      <td>Little Bow</td>\n      <td>991S</td>\n      <td>AltaLink</td>\n      <td>49-Stavely</td>\n      <td>549026</td>\n      <td>240</td>\n      <td>84</td>\n      <td>116</td>\n      <td>991S</td>\n      <td>50.264729</td>\n      <td>-112.764489</td>\n    </tr>\n    <tr>\n      <th>5</th>\n      <td>1005L</td>\n      <td>240</td>\n      <td>311</td>\n      <td>3</td>\n      <td>Picture Butte</td>\n      <td>120S</td>\n      <td>AltaLink</td>\n      <td>54-Lethbridge</td>\n      <td>451</td>\n      <td>240</td>\n      <td>311</td>\n      <td>155</td>\n      <td>120S</td>\n      <td>49.827353</td>\n      <td>-112.734982</td>\n    </tr>\n    <tr>\n      <th>6</th>\n      <td>1005L</td>\n      <td>240</td>\n      <td>117</td>\n      <td>4</td>\n      <td>Milo</td>\n      <td>356S</td>\n      <td>AltaLink</td>\n      <td>47-Brooks</td>\n      <td>943</td>\n      <td>240</td>\n      <td>1327</td>\n      <td>131</td>\n      <td>356S</td>\n      <td>50.521809</td>\n      <td>-112.767802</td>\n    </tr>\n    <tr>\n      <th>7</th>\n      <td>100L</td>\n      <td>138</td>\n      <td>58</td>\n      <td>5</td>\n      <td>Tilley</td>\n      <td>498S</td>\n      <td>AltaLink</td>\n      <td>47-Brooks</td>\n      <td>275</td>\n      <td>138</td>\n      <td>127</td>\n      <td>195</td>\n      <td>498S</td>\n      <td>50.490566</td>\n      <td>-111.652846</td>\n    </tr>\n    <tr>\n      <th>8</th>\n      <td>100L</td>\n      <td>138</td>\n      <td>62</td>\n      <td>6</td>\n      <td>Suffield</td>\n      <td>895S</td>\n      <td>AltaLink</td>\n      <td>04-Medicine Hat</td>\n      <td>270</td>\n      <td>138</td>\n      <td>63</td>\n      <td>187</td>\n      <td>895S</td>\n      <td>50.231783</td>\n      <td>-111.172141</td>\n    </tr>\n    <tr>\n      <th>9</th>\n      <td>1011L</td>\n      <td>240</td>\n      <td>158</td>\n      <td>7</td>\n      <td>Amoco Empress</td>\n      <td>163S</td>\n      <td>AltaLink</td>\n      <td>48-Empress</td>\n      <td>262</td>\n      <td>240</td>\n      <td>160</td>\n      <td>1</td>\n      <td>163S</td>\n      <td>50.678140</td>\n      <td>-110.026638</td>\n    </tr>\n  </tbody>\n</table>\n</div>"
     },
     "execution_count": 36,
     "metadata": {},
     "output_type": "execute_result"
    }
   ],
   "source": [
    "full_df.head(10)"
   ],
   "metadata": {
    "collapsed": false,
    "ExecuteTime": {
     "end_time": "2024-03-17T19:11:31.668701800Z",
     "start_time": "2024-03-17T19:11:31.659127400Z"
    }
   },
   "id": "d376de3c745687d2",
   "execution_count": 36
  },
  {
   "cell_type": "code",
   "outputs": [],
   "source": [
    "full_df.drop(['Shape'], axis=1, inplace=True)"
   ],
   "metadata": {
    "collapsed": false,
    "ExecuteTime": {
     "end_time": "2024-03-17T18:44:07.449354400Z",
     "start_time": "2024-03-17T18:44:07.440365Z"
    }
   },
   "id": "f97afeceae730901",
   "execution_count": 32
  },
  {
   "cell_type": "code",
   "outputs": [
    {
     "data": {
      "text/plain": "0"
     },
     "execution_count": 33,
     "metadata": {},
     "output_type": "execute_result"
    }
   ],
   "source": [
    "db.save_data('merged', full_df, replace=True)"
   ],
   "metadata": {
    "collapsed": false,
    "ExecuteTime": {
     "end_time": "2024-03-17T18:44:11.039692100Z",
     "start_time": "2024-03-17T18:44:11.027739900Z"
    }
   },
   "id": "63cec40040a869de",
   "execution_count": 33
  },
  {
   "cell_type": "code",
   "outputs": [],
   "source": [],
   "metadata": {
    "collapsed": false
   },
   "id": "94be48302b8aa380"
  }
 ],
 "metadata": {
  "kernelspec": {
   "display_name": "Python 3",
   "language": "python",
   "name": "python3"
  },
  "language_info": {
   "codemirror_mode": {
    "name": "ipython",
    "version": 2
   },
   "file_extension": ".py",
   "mimetype": "text/x-python",
   "name": "python",
   "nbconvert_exporter": "python",
   "pygments_lexer": "ipython2",
   "version": "2.7.6"
  }
 },
 "nbformat": 4,
 "nbformat_minor": 5
}
