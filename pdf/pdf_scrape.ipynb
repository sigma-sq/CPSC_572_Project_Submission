{
 "cells": [
  {
   "cell_type": "code",
   "execution_count": 1,
   "id": "initial_id",
   "metadata": {
    "collapsed": true,
    "ExecuteTime": {
     "end_time": "2024-01-23T01:39:09.973175Z",
     "start_time": "2024-01-23T01:39:08.969529Z"
    }
   },
   "outputs": [],
   "source": [
    "import tabula\n",
    "import pandas as pd\n",
    "from IPython.display import display"
   ]
  },
  {
   "cell_type": "code",
   "outputs": [
    {
     "name": "stderr",
     "output_type": "stream",
     "text": [
      "/Users/deepthought/opt/anaconda3/envs/Courses_311/lib/python3.11/site-packages/tabula/io.py:1054: FutureWarning: errors='ignore' is deprecated and will raise in a future version. Use to_numeric without passing `errors` and catch exceptions explicitly instead\n",
      "  df[c] = pd.to_numeric(df[c], errors=\"ignore\")\n"
     ]
    }
   ],
   "source": [
    "# Pages selected depending on if we are getting the node data or transmission data from the PDF\n",
    "f = 'Capability_Map_Report_2023.pdf'\n",
    "pages = [14,15,16,17,18,19,20,21,22]\n",
    "\n",
    "tables = tabula.read_pdf(f, pages=pages)"
   ],
   "metadata": {
    "collapsed": false,
    "ExecuteTime": {
     "end_time": "2024-01-23T01:39:29.287264Z",
     "start_time": "2024-01-23T01:39:11.337475Z"
    }
   },
   "id": "600eb012f2306c1",
   "execution_count": 2
  },
  {
   "cell_type": "code",
   "outputs": [
    {
     "name": "stdout",
     "output_type": "stream",
     "text": [
      "Table 1 from the PDF:\n"
     ]
    },
    {
     "data": {
      "text/plain": "  Unnamed: 0 Voltage       Unnamed: 1 Facility     Unnamed: 2 Unnamed: 3  \\\n0  Line Name     NaN  Substation Name      NaN  Planning Area        TFO   \n1        NaN    (kV)              NaN     Code            NaN        NaN   \n2      1002L     240    Amoco Empress     163S     48-Empress   AltaLink   \n3      1002L     240           Jenner     275S     48-Empress   AltaLink   \n4     1005AL     240       Little Bow     991S     49-Stavely   AltaLink   \n\n  Capability  \n0        NaN  \n1      (MW)4  \n2        158  \n3        265  \n4         84  ",
      "text/html": "<div>\n<style scoped>\n    .dataframe tbody tr th:only-of-type {\n        vertical-align: middle;\n    }\n\n    .dataframe tbody tr th {\n        vertical-align: top;\n    }\n\n    .dataframe thead th {\n        text-align: right;\n    }\n</style>\n<table border=\"1\" class=\"dataframe\">\n  <thead>\n    <tr style=\"text-align: right;\">\n      <th></th>\n      <th>Unnamed: 0</th>\n      <th>Voltage</th>\n      <th>Unnamed: 1</th>\n      <th>Facility</th>\n      <th>Unnamed: 2</th>\n      <th>Unnamed: 3</th>\n      <th>Capability</th>\n    </tr>\n  </thead>\n  <tbody>\n    <tr>\n      <th>0</th>\n      <td>Line Name</td>\n      <td>NaN</td>\n      <td>Substation Name</td>\n      <td>NaN</td>\n      <td>Planning Area</td>\n      <td>TFO</td>\n      <td>NaN</td>\n    </tr>\n    <tr>\n      <th>1</th>\n      <td>NaN</td>\n      <td>(kV)</td>\n      <td>NaN</td>\n      <td>Code</td>\n      <td>NaN</td>\n      <td>NaN</td>\n      <td>(MW)4</td>\n    </tr>\n    <tr>\n      <th>2</th>\n      <td>1002L</td>\n      <td>240</td>\n      <td>Amoco Empress</td>\n      <td>163S</td>\n      <td>48-Empress</td>\n      <td>AltaLink</td>\n      <td>158</td>\n    </tr>\n    <tr>\n      <th>3</th>\n      <td>1002L</td>\n      <td>240</td>\n      <td>Jenner</td>\n      <td>275S</td>\n      <td>48-Empress</td>\n      <td>AltaLink</td>\n      <td>265</td>\n    </tr>\n    <tr>\n      <th>4</th>\n      <td>1005AL</td>\n      <td>240</td>\n      <td>Little Bow</td>\n      <td>991S</td>\n      <td>49-Stavely</td>\n      <td>AltaLink</td>\n      <td>84</td>\n    </tr>\n  </tbody>\n</table>\n</div>"
     },
     "metadata": {},
     "output_type": "display_data"
    },
    {
     "name": "stdout",
     "output_type": "stream",
     "text": [
      "Table 2 from the PDF:\n"
     ]
    },
    {
     "data": {
      "text/plain": "  Unnamed: 0 Voltage       Unnamed: 1 Facility       Unnamed: 2 Unnamed: 3  \\\n0  Line Name     NaN  Substation Name      NaN    Planning Area        TFO   \n1        NaN    (kV)              NaN     Code              NaN        NaN   \n2      1107L     240              NaN    SS-65        6-Calgary      Enmax   \n3      1148L     240         Shamrock    1018S  04-Medicine Hat   AltaLink   \n4      1148L     240           Whitla     251S  04-Medicine Hat   AltaLink   \n\n  Capability  \n0        NaN  \n1      (MW)4  \n2        466  \n3        156  \n4        156  ",
      "text/html": "<div>\n<style scoped>\n    .dataframe tbody tr th:only-of-type {\n        vertical-align: middle;\n    }\n\n    .dataframe tbody tr th {\n        vertical-align: top;\n    }\n\n    .dataframe thead th {\n        text-align: right;\n    }\n</style>\n<table border=\"1\" class=\"dataframe\">\n  <thead>\n    <tr style=\"text-align: right;\">\n      <th></th>\n      <th>Unnamed: 0</th>\n      <th>Voltage</th>\n      <th>Unnamed: 1</th>\n      <th>Facility</th>\n      <th>Unnamed: 2</th>\n      <th>Unnamed: 3</th>\n      <th>Capability</th>\n    </tr>\n  </thead>\n  <tbody>\n    <tr>\n      <th>0</th>\n      <td>Line Name</td>\n      <td>NaN</td>\n      <td>Substation Name</td>\n      <td>NaN</td>\n      <td>Planning Area</td>\n      <td>TFO</td>\n      <td>NaN</td>\n    </tr>\n    <tr>\n      <th>1</th>\n      <td>NaN</td>\n      <td>(kV)</td>\n      <td>NaN</td>\n      <td>Code</td>\n      <td>NaN</td>\n      <td>NaN</td>\n      <td>(MW)4</td>\n    </tr>\n    <tr>\n      <th>2</th>\n      <td>1107L</td>\n      <td>240</td>\n      <td>NaN</td>\n      <td>SS-65</td>\n      <td>6-Calgary</td>\n      <td>Enmax</td>\n      <td>466</td>\n    </tr>\n    <tr>\n      <th>3</th>\n      <td>1148L</td>\n      <td>240</td>\n      <td>Shamrock</td>\n      <td>1018S</td>\n      <td>04-Medicine Hat</td>\n      <td>AltaLink</td>\n      <td>156</td>\n    </tr>\n    <tr>\n      <th>4</th>\n      <td>1148L</td>\n      <td>240</td>\n      <td>Whitla</td>\n      <td>251S</td>\n      <td>04-Medicine Hat</td>\n      <td>AltaLink</td>\n      <td>156</td>\n    </tr>\n  </tbody>\n</table>\n</div>"
     },
     "metadata": {},
     "output_type": "display_data"
    },
    {
     "name": "stdout",
     "output_type": "stream",
     "text": [
      "Table 3 from the PDF:\n"
     ]
    },
    {
     "data": {
      "text/plain": "  Unnamed: 0 Voltage       Unnamed: 1 Facility       Unnamed: 2 Unnamed: 3  \\\n0  Line Name     NaN  Substation Name      NaN    Planning Area        TFO   \n1        NaN    (kV)              NaN     Code              NaN        NaN   \n2       434L     138       High River      65S    46-High River   AltaLink   \n3      463AL     138          Monarch     492S    54-Lethbridge   AltaLink   \n4       463L     138     Fort Macleod      15S  53-Fort Macleod   AltaLink   \n\n  Capability  \n0        NaN  \n1      (MW)4  \n2         33  \n3         16  \n4         18  ",
      "text/html": "<div>\n<style scoped>\n    .dataframe tbody tr th:only-of-type {\n        vertical-align: middle;\n    }\n\n    .dataframe tbody tr th {\n        vertical-align: top;\n    }\n\n    .dataframe thead th {\n        text-align: right;\n    }\n</style>\n<table border=\"1\" class=\"dataframe\">\n  <thead>\n    <tr style=\"text-align: right;\">\n      <th></th>\n      <th>Unnamed: 0</th>\n      <th>Voltage</th>\n      <th>Unnamed: 1</th>\n      <th>Facility</th>\n      <th>Unnamed: 2</th>\n      <th>Unnamed: 3</th>\n      <th>Capability</th>\n    </tr>\n  </thead>\n  <tbody>\n    <tr>\n      <th>0</th>\n      <td>Line Name</td>\n      <td>NaN</td>\n      <td>Substation Name</td>\n      <td>NaN</td>\n      <td>Planning Area</td>\n      <td>TFO</td>\n      <td>NaN</td>\n    </tr>\n    <tr>\n      <th>1</th>\n      <td>NaN</td>\n      <td>(kV)</td>\n      <td>NaN</td>\n      <td>Code</td>\n      <td>NaN</td>\n      <td>NaN</td>\n      <td>(MW)4</td>\n    </tr>\n    <tr>\n      <th>2</th>\n      <td>434L</td>\n      <td>138</td>\n      <td>High River</td>\n      <td>65S</td>\n      <td>46-High River</td>\n      <td>AltaLink</td>\n      <td>33</td>\n    </tr>\n    <tr>\n      <th>3</th>\n      <td>463AL</td>\n      <td>138</td>\n      <td>Monarch</td>\n      <td>492S</td>\n      <td>54-Lethbridge</td>\n      <td>AltaLink</td>\n      <td>16</td>\n    </tr>\n    <tr>\n      <th>4</th>\n      <td>463L</td>\n      <td>138</td>\n      <td>Fort Macleod</td>\n      <td>15S</td>\n      <td>53-Fort Macleod</td>\n      <td>AltaLink</td>\n      <td>18</td>\n    </tr>\n  </tbody>\n</table>\n</div>"
     },
     "metadata": {},
     "output_type": "display_data"
    },
    {
     "name": "stdout",
     "output_type": "stream",
     "text": [
      "Table 4 from the PDF:\n"
     ]
    },
    {
     "data": {
      "text/plain": "  Unnamed: 0 Voltage       Unnamed: 1 Facility       Unnamed: 2 Unnamed: 3  \\\n0  Line Name     NaN  Substation Name      NaN    Planning Area        TFO   \n1        NaN    (kV)              NaN     Code              NaN        NaN   \n2       669L     138          Cypress     562S       48-Empress   AltaLink   \n3       674L     138        Bowmanton     244S  04-Medicine Hat   AltaLink   \n4       674L     138    Chappice Lake     649S  04-Medicine Hat   AltaLink   \n\n  Capability  \n0        NaN  \n1      (MW)4  \n2        120  \n3         35  \n4         35  ",
      "text/html": "<div>\n<style scoped>\n    .dataframe tbody tr th:only-of-type {\n        vertical-align: middle;\n    }\n\n    .dataframe tbody tr th {\n        vertical-align: top;\n    }\n\n    .dataframe thead th {\n        text-align: right;\n    }\n</style>\n<table border=\"1\" class=\"dataframe\">\n  <thead>\n    <tr style=\"text-align: right;\">\n      <th></th>\n      <th>Unnamed: 0</th>\n      <th>Voltage</th>\n      <th>Unnamed: 1</th>\n      <th>Facility</th>\n      <th>Unnamed: 2</th>\n      <th>Unnamed: 3</th>\n      <th>Capability</th>\n    </tr>\n  </thead>\n  <tbody>\n    <tr>\n      <th>0</th>\n      <td>Line Name</td>\n      <td>NaN</td>\n      <td>Substation Name</td>\n      <td>NaN</td>\n      <td>Planning Area</td>\n      <td>TFO</td>\n      <td>NaN</td>\n    </tr>\n    <tr>\n      <th>1</th>\n      <td>NaN</td>\n      <td>(kV)</td>\n      <td>NaN</td>\n      <td>Code</td>\n      <td>NaN</td>\n      <td>NaN</td>\n      <td>(MW)4</td>\n    </tr>\n    <tr>\n      <th>2</th>\n      <td>669L</td>\n      <td>138</td>\n      <td>Cypress</td>\n      <td>562S</td>\n      <td>48-Empress</td>\n      <td>AltaLink</td>\n      <td>120</td>\n    </tr>\n    <tr>\n      <th>3</th>\n      <td>674L</td>\n      <td>138</td>\n      <td>Bowmanton</td>\n      <td>244S</td>\n      <td>04-Medicine Hat</td>\n      <td>AltaLink</td>\n      <td>35</td>\n    </tr>\n    <tr>\n      <th>4</th>\n      <td>674L</td>\n      <td>138</td>\n      <td>Chappice Lake</td>\n      <td>649S</td>\n      <td>04-Medicine Hat</td>\n      <td>AltaLink</td>\n      <td>35</td>\n    </tr>\n  </tbody>\n</table>\n</div>"
     },
     "metadata": {},
     "output_type": "display_data"
    },
    {
     "name": "stdout",
     "output_type": "stream",
     "text": [
      "Table 5 from the PDF:\n"
     ]
    },
    {
     "data": {
      "text/plain": "  Unnamed: 0 Voltage       Unnamed: 1 Facility     Unnamed: 2 Unnamed: 3  \\\n0  Line Name     NaN  Substation Name      NaN  Planning Area        TFO   \n1        NaN    (kV)              NaN     Code            NaN        NaN   \n2       703L     138         Hardisty     377S  32-Wainwright   AltaLink   \n3       704L     138          Tucuman     478S  32-Wainwright   AltaLink   \n4       704L     138       Wainwright      51S  32-Wainwright   AltaLink   \n\n  Capability  \n0        NaN  \n1      (MW)4  \n2        105  \n3         86  \n4         77  ",
      "text/html": "<div>\n<style scoped>\n    .dataframe tbody tr th:only-of-type {\n        vertical-align: middle;\n    }\n\n    .dataframe tbody tr th {\n        vertical-align: top;\n    }\n\n    .dataframe thead th {\n        text-align: right;\n    }\n</style>\n<table border=\"1\" class=\"dataframe\">\n  <thead>\n    <tr style=\"text-align: right;\">\n      <th></th>\n      <th>Unnamed: 0</th>\n      <th>Voltage</th>\n      <th>Unnamed: 1</th>\n      <th>Facility</th>\n      <th>Unnamed: 2</th>\n      <th>Unnamed: 3</th>\n      <th>Capability</th>\n    </tr>\n  </thead>\n  <tbody>\n    <tr>\n      <th>0</th>\n      <td>Line Name</td>\n      <td>NaN</td>\n      <td>Substation Name</td>\n      <td>NaN</td>\n      <td>Planning Area</td>\n      <td>TFO</td>\n      <td>NaN</td>\n    </tr>\n    <tr>\n      <th>1</th>\n      <td>NaN</td>\n      <td>(kV)</td>\n      <td>NaN</td>\n      <td>Code</td>\n      <td>NaN</td>\n      <td>NaN</td>\n      <td>(MW)4</td>\n    </tr>\n    <tr>\n      <th>2</th>\n      <td>703L</td>\n      <td>138</td>\n      <td>Hardisty</td>\n      <td>377S</td>\n      <td>32-Wainwright</td>\n      <td>AltaLink</td>\n      <td>105</td>\n    </tr>\n    <tr>\n      <th>3</th>\n      <td>704L</td>\n      <td>138</td>\n      <td>Tucuman</td>\n      <td>478S</td>\n      <td>32-Wainwright</td>\n      <td>AltaLink</td>\n      <td>86</td>\n    </tr>\n    <tr>\n      <th>4</th>\n      <td>704L</td>\n      <td>138</td>\n      <td>Wainwright</td>\n      <td>51S</td>\n      <td>32-Wainwright</td>\n      <td>AltaLink</td>\n      <td>77</td>\n    </tr>\n  </tbody>\n</table>\n</div>"
     },
     "metadata": {},
     "output_type": "display_data"
    },
    {
     "name": "stdout",
     "output_type": "stream",
     "text": [
      "Table 6 from the PDF:\n"
     ]
    },
    {
     "data": {
      "text/plain": "  Unnamed: 0 Voltage       Unnamed: 1 Facility     Unnamed: 2 Unnamed: 3  \\\n0  Line Name     NaN  Substation Name      NaN  Planning Area        TFO   \n1        NaN    (kV)              NaN     Code            NaN        NaN   \n2       795L     138           Brooks     121S      47-Brooks   AltaLink   \n3       795L     138             Hays     421S    52-Vauxhall   AltaLink   \n4      7L110     138          Monitor     774S       42-Hanna       ATCO   \n\n  Capability  \n0        NaN  \n1      (MW)4  \n2         84  \n3         11  \n4         86  ",
      "text/html": "<div>\n<style scoped>\n    .dataframe tbody tr th:only-of-type {\n        vertical-align: middle;\n    }\n\n    .dataframe tbody tr th {\n        vertical-align: top;\n    }\n\n    .dataframe thead th {\n        text-align: right;\n    }\n</style>\n<table border=\"1\" class=\"dataframe\">\n  <thead>\n    <tr style=\"text-align: right;\">\n      <th></th>\n      <th>Unnamed: 0</th>\n      <th>Voltage</th>\n      <th>Unnamed: 1</th>\n      <th>Facility</th>\n      <th>Unnamed: 2</th>\n      <th>Unnamed: 3</th>\n      <th>Capability</th>\n    </tr>\n  </thead>\n  <tbody>\n    <tr>\n      <th>0</th>\n      <td>Line Name</td>\n      <td>NaN</td>\n      <td>Substation Name</td>\n      <td>NaN</td>\n      <td>Planning Area</td>\n      <td>TFO</td>\n      <td>NaN</td>\n    </tr>\n    <tr>\n      <th>1</th>\n      <td>NaN</td>\n      <td>(kV)</td>\n      <td>NaN</td>\n      <td>Code</td>\n      <td>NaN</td>\n      <td>NaN</td>\n      <td>(MW)4</td>\n    </tr>\n    <tr>\n      <th>2</th>\n      <td>795L</td>\n      <td>138</td>\n      <td>Brooks</td>\n      <td>121S</td>\n      <td>47-Brooks</td>\n      <td>AltaLink</td>\n      <td>84</td>\n    </tr>\n    <tr>\n      <th>3</th>\n      <td>795L</td>\n      <td>138</td>\n      <td>Hays</td>\n      <td>421S</td>\n      <td>52-Vauxhall</td>\n      <td>AltaLink</td>\n      <td>11</td>\n    </tr>\n    <tr>\n      <th>4</th>\n      <td>7L110</td>\n      <td>138</td>\n      <td>Monitor</td>\n      <td>774S</td>\n      <td>42-Hanna</td>\n      <td>ATCO</td>\n      <td>86</td>\n    </tr>\n  </tbody>\n</table>\n</div>"
     },
     "metadata": {},
     "output_type": "display_data"
    },
    {
     "name": "stdout",
     "output_type": "stream",
     "text": [
      "Table 7 from the PDF:\n"
     ]
    },
    {
     "data": {
      "text/plain": "  Unnamed: 0 Voltage       Unnamed: 1 Facility     Unnamed: 2 Unnamed: 3  \\\n0  Line Name     NaN  Substation Name      NaN  Planning Area        TFO   \n1        NaN    (kV)              NaN     Code            NaN        NaN   \n2       7L79     138          Veteran     771S       42-Hanna       ATCO   \n3       7L79     138   Ribstone Creek     892S       42-Hanna       ATCO   \n4       7L79     138          Pemukan     932S       42-Hanna       ATCO   \n\n  Capability  \n0        NaN  \n1      (MW)4  \n2        108  \n3        103  \n4        106  ",
      "text/html": "<div>\n<style scoped>\n    .dataframe tbody tr th:only-of-type {\n        vertical-align: middle;\n    }\n\n    .dataframe tbody tr th {\n        vertical-align: top;\n    }\n\n    .dataframe thead th {\n        text-align: right;\n    }\n</style>\n<table border=\"1\" class=\"dataframe\">\n  <thead>\n    <tr style=\"text-align: right;\">\n      <th></th>\n      <th>Unnamed: 0</th>\n      <th>Voltage</th>\n      <th>Unnamed: 1</th>\n      <th>Facility</th>\n      <th>Unnamed: 2</th>\n      <th>Unnamed: 3</th>\n      <th>Capability</th>\n    </tr>\n  </thead>\n  <tbody>\n    <tr>\n      <th>0</th>\n      <td>Line Name</td>\n      <td>NaN</td>\n      <td>Substation Name</td>\n      <td>NaN</td>\n      <td>Planning Area</td>\n      <td>TFO</td>\n      <td>NaN</td>\n    </tr>\n    <tr>\n      <th>1</th>\n      <td>NaN</td>\n      <td>(kV)</td>\n      <td>NaN</td>\n      <td>Code</td>\n      <td>NaN</td>\n      <td>NaN</td>\n      <td>(MW)4</td>\n    </tr>\n    <tr>\n      <th>2</th>\n      <td>7L79</td>\n      <td>138</td>\n      <td>Veteran</td>\n      <td>771S</td>\n      <td>42-Hanna</td>\n      <td>ATCO</td>\n      <td>108</td>\n    </tr>\n    <tr>\n      <th>3</th>\n      <td>7L79</td>\n      <td>138</td>\n      <td>Ribstone Creek</td>\n      <td>892S</td>\n      <td>42-Hanna</td>\n      <td>ATCO</td>\n      <td>103</td>\n    </tr>\n    <tr>\n      <th>4</th>\n      <td>7L79</td>\n      <td>138</td>\n      <td>Pemukan</td>\n      <td>932S</td>\n      <td>42-Hanna</td>\n      <td>ATCO</td>\n      <td>106</td>\n    </tr>\n  </tbody>\n</table>\n</div>"
     },
     "metadata": {},
     "output_type": "display_data"
    },
    {
     "name": "stdout",
     "output_type": "stream",
     "text": [
      "Table 8 from the PDF:\n"
     ]
    },
    {
     "data": {
      "text/plain": "  Unnamed: 0 Voltage       Unnamed: 1 Facility     Unnamed: 2 Unnamed: 3  \\\n0  Line Name     NaN  Substation Name      NaN  Planning Area        TFO   \n1        NaN    (kV)              NaN     Code            NaN        NaN   \n2       863L     138          Magrath     225S    55-Glenwood   AltaLink   \n3       863L     138        Riverbend     618S  54-Lethbridge   AltaLink   \n4       869L     138    Amoco Empress     163S     48-Empress   AltaLink   \n\n  Capability  \n0        NaN  \n1      (MW)4  \n2         15  \n3         15  \n4         44  ",
      "text/html": "<div>\n<style scoped>\n    .dataframe tbody tr th:only-of-type {\n        vertical-align: middle;\n    }\n\n    .dataframe tbody tr th {\n        vertical-align: top;\n    }\n\n    .dataframe thead th {\n        text-align: right;\n    }\n</style>\n<table border=\"1\" class=\"dataframe\">\n  <thead>\n    <tr style=\"text-align: right;\">\n      <th></th>\n      <th>Unnamed: 0</th>\n      <th>Voltage</th>\n      <th>Unnamed: 1</th>\n      <th>Facility</th>\n      <th>Unnamed: 2</th>\n      <th>Unnamed: 3</th>\n      <th>Capability</th>\n    </tr>\n  </thead>\n  <tbody>\n    <tr>\n      <th>0</th>\n      <td>Line Name</td>\n      <td>NaN</td>\n      <td>Substation Name</td>\n      <td>NaN</td>\n      <td>Planning Area</td>\n      <td>TFO</td>\n      <td>NaN</td>\n    </tr>\n    <tr>\n      <th>1</th>\n      <td>NaN</td>\n      <td>(kV)</td>\n      <td>NaN</td>\n      <td>Code</td>\n      <td>NaN</td>\n      <td>NaN</td>\n      <td>(MW)4</td>\n    </tr>\n    <tr>\n      <th>2</th>\n      <td>863L</td>\n      <td>138</td>\n      <td>Magrath</td>\n      <td>225S</td>\n      <td>55-Glenwood</td>\n      <td>AltaLink</td>\n      <td>15</td>\n    </tr>\n    <tr>\n      <th>3</th>\n      <td>863L</td>\n      <td>138</td>\n      <td>Riverbend</td>\n      <td>618S</td>\n      <td>54-Lethbridge</td>\n      <td>AltaLink</td>\n      <td>15</td>\n    </tr>\n    <tr>\n      <th>4</th>\n      <td>869L</td>\n      <td>138</td>\n      <td>Amoco Empress</td>\n      <td>163S</td>\n      <td>48-Empress</td>\n      <td>AltaLink</td>\n      <td>44</td>\n    </tr>\n  </tbody>\n</table>\n</div>"
     },
     "metadata": {},
     "output_type": "display_data"
    },
    {
     "name": "stdout",
     "output_type": "stream",
     "text": [
      "Table 9 from the PDF:\n"
     ]
    },
    {
     "data": {
      "text/plain": "  Unnamed: 0 Voltage       Unnamed: 1 Facility       Unnamed: 2 Unnamed: 3  \\\n0  Line Name     NaN  Substation Name      NaN    Planning Area        TFO   \n1        NaN    (kV)              NaN     Code              NaN        NaN   \n2       954L     240     Hansman Lake     650S       37-Provost   AltaLink   \n3       955L     240       Goose Lake     103S  53-Fort Macleod   AltaLink   \n4       955L     240           Peigan      59S  53-Fort Macleod   AltaLink   \n\n  Capability  \n0        NaN  \n1      (MW)4  \n2        390  \n3        429  \n4        398  ",
      "text/html": "<div>\n<style scoped>\n    .dataframe tbody tr th:only-of-type {\n        vertical-align: middle;\n    }\n\n    .dataframe tbody tr th {\n        vertical-align: top;\n    }\n\n    .dataframe thead th {\n        text-align: right;\n    }\n</style>\n<table border=\"1\" class=\"dataframe\">\n  <thead>\n    <tr style=\"text-align: right;\">\n      <th></th>\n      <th>Unnamed: 0</th>\n      <th>Voltage</th>\n      <th>Unnamed: 1</th>\n      <th>Facility</th>\n      <th>Unnamed: 2</th>\n      <th>Unnamed: 3</th>\n      <th>Capability</th>\n    </tr>\n  </thead>\n  <tbody>\n    <tr>\n      <th>0</th>\n      <td>Line Name</td>\n      <td>NaN</td>\n      <td>Substation Name</td>\n      <td>NaN</td>\n      <td>Planning Area</td>\n      <td>TFO</td>\n      <td>NaN</td>\n    </tr>\n    <tr>\n      <th>1</th>\n      <td>NaN</td>\n      <td>(kV)</td>\n      <td>NaN</td>\n      <td>Code</td>\n      <td>NaN</td>\n      <td>NaN</td>\n      <td>(MW)4</td>\n    </tr>\n    <tr>\n      <th>2</th>\n      <td>954L</td>\n      <td>240</td>\n      <td>Hansman Lake</td>\n      <td>650S</td>\n      <td>37-Provost</td>\n      <td>AltaLink</td>\n      <td>390</td>\n    </tr>\n    <tr>\n      <th>3</th>\n      <td>955L</td>\n      <td>240</td>\n      <td>Goose Lake</td>\n      <td>103S</td>\n      <td>53-Fort Macleod</td>\n      <td>AltaLink</td>\n      <td>429</td>\n    </tr>\n    <tr>\n      <th>4</th>\n      <td>955L</td>\n      <td>240</td>\n      <td>Peigan</td>\n      <td>59S</td>\n      <td>53-Fort Macleod</td>\n      <td>AltaLink</td>\n      <td>398</td>\n    </tr>\n  </tbody>\n</table>\n</div>"
     },
     "metadata": {},
     "output_type": "display_data"
    }
   ],
   "source": [
    "all_df = []\n",
    "# Just looping through all the tables on the given pages above and displaying them so I can see what is there.\n",
    "for i, table in enumerate(tables):\n",
    "    all_df.append(table)\n",
    "    print(f\"Table {i+1} from the PDF:\")\n",
    "    display(table.head())"
   ],
   "metadata": {
    "collapsed": false,
    "ExecuteTime": {
     "end_time": "2024-01-23T01:39:50.159120Z",
     "start_time": "2024-01-23T01:39:49.196792Z"
    }
   },
   "id": "428297cbcfd356ee",
   "execution_count": 3
  },
  {
   "cell_type": "code",
   "outputs": [
    {
     "data": {
      "text/plain": "    Unnamed: 0 Voltage          Unnamed: 1 Facility             Unnamed: 2  \\\n0    Line Name     NaN     Substation Name      NaN          Planning Area   \n1          NaN    (kV)                 NaN     Code                    NaN   \n2        1002L     240       Amoco Empress     163S             48-Empress   \n3        1002L     240              Jenner     275S             48-Empress   \n4       1005AL     240          Little Bow     991S             49-Stavely   \n..         ...     ...                 ...      ...                    ...   \n520       9L99     240           Sheerness     807S           43-Sheerness   \n521      CHD-1      69             Magrath     225S            55-Glenwood   \n522      CHD-1      69  Taylor Hydro Plant      NaN            55-Glenwood   \n523    PCES01L     138              Namaka     428S  45-Strathmore/Blackie   \n524    PCES01L     138            Cavalier      NaN  45-Strathmore/Blackie   \n\n    Unnamed: 3 Capability  \n0          TFO        NaN  \n1          NaN      (MW)4  \n2     AltaLink        158  \n3     AltaLink        265  \n4     AltaLink         84  \n..         ...        ...  \n520       ATCO         83  \n521   AltaLink         15  \n522   AltaLink         15  \n523   AltaLink          5  \n524   AltaLink          5  \n\n[525 rows x 7 columns]",
      "text/html": "<div>\n<style scoped>\n    .dataframe tbody tr th:only-of-type {\n        vertical-align: middle;\n    }\n\n    .dataframe tbody tr th {\n        vertical-align: top;\n    }\n\n    .dataframe thead th {\n        text-align: right;\n    }\n</style>\n<table border=\"1\" class=\"dataframe\">\n  <thead>\n    <tr style=\"text-align: right;\">\n      <th></th>\n      <th>Unnamed: 0</th>\n      <th>Voltage</th>\n      <th>Unnamed: 1</th>\n      <th>Facility</th>\n      <th>Unnamed: 2</th>\n      <th>Unnamed: 3</th>\n      <th>Capability</th>\n    </tr>\n  </thead>\n  <tbody>\n    <tr>\n      <th>0</th>\n      <td>Line Name</td>\n      <td>NaN</td>\n      <td>Substation Name</td>\n      <td>NaN</td>\n      <td>Planning Area</td>\n      <td>TFO</td>\n      <td>NaN</td>\n    </tr>\n    <tr>\n      <th>1</th>\n      <td>NaN</td>\n      <td>(kV)</td>\n      <td>NaN</td>\n      <td>Code</td>\n      <td>NaN</td>\n      <td>NaN</td>\n      <td>(MW)4</td>\n    </tr>\n    <tr>\n      <th>2</th>\n      <td>1002L</td>\n      <td>240</td>\n      <td>Amoco Empress</td>\n      <td>163S</td>\n      <td>48-Empress</td>\n      <td>AltaLink</td>\n      <td>158</td>\n    </tr>\n    <tr>\n      <th>3</th>\n      <td>1002L</td>\n      <td>240</td>\n      <td>Jenner</td>\n      <td>275S</td>\n      <td>48-Empress</td>\n      <td>AltaLink</td>\n      <td>265</td>\n    </tr>\n    <tr>\n      <th>4</th>\n      <td>1005AL</td>\n      <td>240</td>\n      <td>Little Bow</td>\n      <td>991S</td>\n      <td>49-Stavely</td>\n      <td>AltaLink</td>\n      <td>84</td>\n    </tr>\n    <tr>\n      <th>...</th>\n      <td>...</td>\n      <td>...</td>\n      <td>...</td>\n      <td>...</td>\n      <td>...</td>\n      <td>...</td>\n      <td>...</td>\n    </tr>\n    <tr>\n      <th>520</th>\n      <td>9L99</td>\n      <td>240</td>\n      <td>Sheerness</td>\n      <td>807S</td>\n      <td>43-Sheerness</td>\n      <td>ATCO</td>\n      <td>83</td>\n    </tr>\n    <tr>\n      <th>521</th>\n      <td>CHD-1</td>\n      <td>69</td>\n      <td>Magrath</td>\n      <td>225S</td>\n      <td>55-Glenwood</td>\n      <td>AltaLink</td>\n      <td>15</td>\n    </tr>\n    <tr>\n      <th>522</th>\n      <td>CHD-1</td>\n      <td>69</td>\n      <td>Taylor Hydro Plant</td>\n      <td>NaN</td>\n      <td>55-Glenwood</td>\n      <td>AltaLink</td>\n      <td>15</td>\n    </tr>\n    <tr>\n      <th>523</th>\n      <td>PCES01L</td>\n      <td>138</td>\n      <td>Namaka</td>\n      <td>428S</td>\n      <td>45-Strathmore/Blackie</td>\n      <td>AltaLink</td>\n      <td>5</td>\n    </tr>\n    <tr>\n      <th>524</th>\n      <td>PCES01L</td>\n      <td>138</td>\n      <td>Cavalier</td>\n      <td>NaN</td>\n      <td>45-Strathmore/Blackie</td>\n      <td>AltaLink</td>\n      <td>5</td>\n    </tr>\n  </tbody>\n</table>\n<p>525 rows × 7 columns</p>\n</div>"
     },
     "metadata": {},
     "output_type": "display_data"
    }
   ],
   "source": [
    "# Combining all the individual dataframes above into a single dataframe\n",
    "combined_dataframe = pd.concat(all_df, ignore_index=True)\n",
    "\n",
    "display(combined_dataframe)"
   ],
   "metadata": {
    "collapsed": false,
    "ExecuteTime": {
     "end_time": "2024-01-23T01:40:20.496544Z",
     "start_time": "2024-01-23T01:40:20.469802Z"
    }
   },
   "id": "ab26a888c37cc8e",
   "execution_count": 4
  },
  {
   "cell_type": "code",
   "outputs": [],
   "source": [
    "# Save out the dataframe\n",
    "combined_dataframe.to_csv('../csv/transmission.csv')"
   ],
   "metadata": {
    "collapsed": false,
    "ExecuteTime": {
     "end_time": "2024-01-23T01:40:24.585417Z",
     "start_time": "2024-01-23T01:40:24.570975Z"
    }
   },
   "id": "cf1ca5c457527a00",
   "execution_count": 5
  },
  {
   "cell_type": "code",
   "outputs": [],
   "source": [],
   "metadata": {
    "collapsed": false
   },
   "id": "cabea150d3bc914a"
  }
 ],
 "metadata": {
  "kernelspec": {
   "display_name": "Python 3",
   "language": "python",
   "name": "python3"
  },
  "language_info": {
   "codemirror_mode": {
    "name": "ipython",
    "version": 2
   },
   "file_extension": ".py",
   "mimetype": "text/x-python",
   "name": "python",
   "nbconvert_exporter": "python",
   "pygments_lexer": "ipython2",
   "version": "2.7.6"
  }
 },
 "nbformat": 4,
 "nbformat_minor": 5
}
